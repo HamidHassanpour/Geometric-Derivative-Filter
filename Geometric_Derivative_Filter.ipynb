{
 "cells": [
  {
   "cell_type": "code",
   "execution_count": 1,
   "metadata": {},
   "outputs": [],
   "source": [
    "import numpy as np\n",
    "import pandas as pd# has issue"
   ]
  },
  {
   "cell_type": "code",
   "execution_count": 4,
   "metadata": {},
   "outputs": [
    {
     "name": "stdout",
     "output_type": "stream",
     "text": [
      "Collecting tables\n",
      "  Downloading tables-3.6.1-2-cp37-cp37m-win_amd64.whl (3.1 MB)\n",
      "Collecting numexpr>=2.6.2\n",
      "  Downloading numexpr-2.7.2-cp37-cp37m-win_amd64.whl (92 kB)\n",
      "Requirement already satisfied: numpy>=1.9.3 in c:\\users\\hamid\\.conda\\envs\\tensorflow_gpu\\lib\\site-packages (from tables) (1.18.5)\n",
      "Installing collected packages: numexpr, tables\n",
      "Successfully installed numexpr-2.7.2 tables-3.6.1\n",
      "Note: you may need to restart the kernel to use updated packages.\n"
     ]
    }
   ],
   "source": [
    "pip install --upgrade tables"
   ]
  },
  {
   "cell_type": "code",
   "execution_count": 41,
   "metadata": {},
   "outputs": [],
   "source": [
    "import PIL\n",
    "from PIL import Image\n",
    "def Derivative_Layer(size,source_path,destination_path,distance_weight=1):\n",
    "    x_length=size[0]\n",
    "    y_length=size[1]\n",
    "    distance=np.zeros((x_length,y_length))\n",
    "    center_x=int((x_length-1)/2)\n",
    "    center_y=int((y_length-1)/2)\n",
    "    Normilized=0\n",
    "    for i in range(distance.shape[0]):\n",
    "        for j in range(distance.shape[1]):\n",
    "            distance[i][j]=np.sqrt((i-center_x)*((i-center_x))+(j-center_y)*(j-center_y))\n",
    "            distance[i][j]=(distance[i][j])\n",
    "    Normilized_distance=1/distance\n",
    "    Normilized_distance[center_x][center_y]=1 # Gamma Values\n",
    "    Normilized_distance=Normilized_distance/(np.sum(Normilized_distance,axis=(0,1)))\n",
    "    image = Image.open(source_path)\n",
    "    data_image = np.asarray(image)\n",
    "    if len(data_image.shape)==2:        \n",
    "        data_new_image=np.zeros((data_image.shape[0],data_image.shape[1]))\n",
    "        channels=1\n",
    "    if len(data_image.shape)==3: \n",
    "        data_new_image=np.zeros((data_image.shape[0],data_image.shape[1],data_image.shape[2]))\n",
    "        channels=data_image.shape[2]\n",
    "    print(data_image.shape)\n",
    "    for channel in range(channels):\n",
    "        for row in range(data_image.shape[1]):\n",
    "            for column in range(data_image.shape[0]):\n",
    "                if column<(data_image.shape[0]-center_y-20) and row<(data_image.shape[1]-center_x-20):\n",
    "                    if channels==1:                        \n",
    "                        window=data_image[column:column+x_length,row:row+y_length].astype(np.float32)\n",
    "                        x=center_x\n",
    "                        y=center_y\n",
    "                        Difference=np.zeros((x_length,y_length)).astype(np.float32)                   \n",
    "                        Difference=window[x,y]-window\n",
    "                        Multiplication=(np.multiply(Difference,Normilized_distance))\n",
    "                        x_value=window[x,y]+(np.sum(Multiplication,axis=(0,1))/(1))\n",
    "                        x_value=np.clip(x_value, a_min=0, a_max=255)\n",
    "                    else:\n",
    "                        window=data_image[column:column+x_length,row:row+y_length,channel].astype(np.float32)\n",
    "                        x=center_x\n",
    "                        y=center_y\n",
    "                        Difference=np.zeros((x_length,y_length)).astype(np.float32)                    \n",
    "                        Difference=window[x,y]-window                        \n",
    "                        Multiplication=(np.multiply(Difference,Normilized_distance))\n",
    "                        x_value=window[x,y]+(np.sum(Multiplication,axis=(0,1))/(1))\n",
    "                        x_value=np.clip(x_value, a_min=0, a_max=255)\n",
    "                    if channels==1:\n",
    "                        Pixel_Value=x_value\n",
    "                    else:\n",
    "                        Pixel_Value=x_value\n",
    "                    x=column+center_x\n",
    "                    y=row+center_y\n",
    "                    if channels==1:\n",
    "                        data_new_image[x,y]=int(Pixel_Value) \n",
    "                    else:\n",
    "                        data_new_image[x,y,channel]=int(Pixel_Value) \n",
    "    gr_im= Image.fromarray(data_new_image.astype(np.uint8)).save(destination_path)"
   ]
  },
  {
   "cell_type": "code",
   "execution_count": 47,
   "metadata": {},
   "outputs": [
    {
     "name": "stderr",
     "output_type": "stream",
     "text": [
      "C:\\Users\\Hamid\\.conda\\envs\\Tensorflow_GPU\\lib\\site-packages\\ipykernel_launcher.py:15: RuntimeWarning: divide by zero encountered in true_divide\n",
      "  from ipykernel import kernelapp as app\n"
     ]
    },
    {
     "name": "stdout",
     "output_type": "stream",
     "text": [
      "(252, 241, 4)\n"
     ]
    }
   ],
   "source": [
    "Derivative_Layer((15,15),distance_weight=1,source_path='../Geometric Derivative Filter/X-ray_one.png',destination_path='../Geometric Derivative Filter/X-ray_one_Results.png')"
   ]
  },
  {
   "cell_type": "raw",
   "metadata": {},
   "source": []
  }
 ],
 "metadata": {
  "kernelspec": {
   "display_name": "Python 3",
   "language": "python",
   "name": "python3"
  },
  "language_info": {
   "codemirror_mode": {
    "name": "ipython",
    "version": 3
   },
   "file_extension": ".py",
   "mimetype": "text/x-python",
   "name": "python",
   "nbconvert_exporter": "python",
   "pygments_lexer": "ipython3",
   "version": "3.7.7"
  }
 },
 "nbformat": 4,
 "nbformat_minor": 4
}
